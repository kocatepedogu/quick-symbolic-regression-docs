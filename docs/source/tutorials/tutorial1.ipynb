{
 "cells": [
  {
   "cell_type": "markdown",
   "id": "cf6e8f82",
   "metadata": {},
   "source": [
    "# Tutorial - Part 1\n",
    "\n",
    "This is the first part of the QuickSR tutorial. This section provides the minimal steps required to perform symbolic regression on a synthetic dataset."
   ]
  },
  {
   "cell_type": "markdown",
   "id": "8cc6923b",
   "metadata": {},
   "source": [
    "First of all, let's start by importing QuickSR and other dependencies"
   ]
  },
  {
   "cell_type": "code",
   "execution_count": 2,
   "id": "5576b0cd",
   "metadata": {},
   "outputs": [],
   "source": [
    "from quicksr import *\n",
    "\n",
    "import numpy as np\n",
    "import matplotlib.pyplot as plt"
   ]
  },
  {
   "cell_type": "markdown",
   "id": "8d341684",
   "metadata": {},
   "source": [
    "For simplicity, we'll use a synthetic, single-dimensional dataset, for which we already know the exact algebraic formula:"
   ]
  },
  {
   "cell_type": "code",
   "execution_count": 3,
   "id": "769e9794",
   "metadata": {},
   "outputs": [],
   "source": [
    "X = np.linspace(-5, 5, 25)\n",
    "y = 2.5382 * np.cos(X)*X + X*X - 0.5"
   ]
  }
 ],
 "metadata": {
  "kernelspec": {
   "display_name": ".venv",
   "language": "python",
   "name": "python3"
  },
  "language_info": {
   "codemirror_mode": {
    "name": "ipython",
    "version": 3
   },
   "file_extension": ".py",
   "mimetype": "text/x-python",
   "name": "python",
   "nbconvert_exporter": "python",
   "pygments_lexer": "ipython3",
   "version": "3.12.3"
  }
 },
 "nbformat": 4,
 "nbformat_minor": 5
}
